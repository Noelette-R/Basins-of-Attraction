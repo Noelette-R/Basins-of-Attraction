{
 "cells": [
  {
   "cell_type": "code",
   "execution_count": null,
   "metadata": {},
   "outputs": [],
   "source": [
    "import numpy as np\n",
    "import pandas as pd\n",
    "import matplotlib.pyplot as plt\n",
    "import matplotlib.patches as patches\n",
    "from matplotlib.colors import ListedColormap, BoundaryNorm"
   ]
  },
  {
   "cell_type": "code",
   "execution_count": null,
   "metadata": {},
   "outputs": [],
   "source": [
    "file-path = r\"filepath.csv\" #CHECK THAT FILE PATH IS CORRECT\n"
   ]
  },
  {
   "cell_type": "code",
   "execution_count": null,
   "metadata": {},
   "outputs": [],
   "source": [
    "#CALLS THE MATRIX FROM A GIVEN FILE AND COMPUTES THE RATIO OF BASIN VOLUMES \n",
    "def call_file_epsilon_ratio(file_path):\n",
    "    \n",
    "    df = pd.read_csv(file_path)\n",
    "    df_length = len(df)\n",
    "    for i in range(df_length):\n",
    "        \n",
    "\n",
    "    count_1 = (df_subset == 1).sum().sum()\n",
    "    count_2 = (df_subset == 2).sum().sum()\n",
    "\n",
    "    print(f\"Count of 1s: {count_1}\")\n",
    "    print(f\"Count of 2s: {count_2}\")\n",
    "    eps_ratio = count_1/count_2\n",
    "    epsilon_ratio.append(eps_ratio)\n",
    "    print(f\"Epsilon Ratio = {eps_ratio}\")\n",
    "\n",
    "    "
   ]
  },
  {
   "cell_type": "code",
   "execution_count": null,
   "metadata": {},
   "outputs": [],
   "source": [
    "cmap = ListedColormap(['grey', 'white'])\n",
    "#ALLOWS THE CHOICE OF COLOUR FOR THE BASINS\n",
    "def plot_basin_from_file(file_path,cmap)\n",
    "    df = pd.read_csv(file_path)\n",
    "    matrix = df\n",
    "\n",
    "    # Create a custom colormap: 1 -> grey, 2 -> white\n",
    "    cmap = ListedColormap(['darkgrey','white'])\n",
    "    bounds = [0.5, 1.5, 2.5]  # Define boundaries for the values\n",
    "    norm = BoundaryNorm(bounds, cmap.N)\n",
    "\n",
    "    # Define the ranges for the x and y axes\n",
    "    x_range = (-5, 12)          # x values from -5 to 12\n",
    "    y_range = (0, 2 * np.pi)      # y values from 0 to 2*pi\n",
    "    plt.figure(figsize=(10,12))\n",
    "    \n",
    "    # Plot the matrix with the specified axis ranges\n",
    "    plt.imshow(matrix, cmap=cmap, norm=norm,\n",
    "            extent=[x_range[0], x_range[1], y_range[0], y_range[1]],\n",
    "            origin='lower')  # origin='lower' places y=0 at the bottom\n",
    "    legend_patches = [\n",
    "        patches.Patch(color=\"darkgrey\", label=\"Fixed Point\"),\n",
    "        patches.Patch(color=\"white\", label=\"Limit Cycle\")\n",
    "    ]\n",
    "\n",
    "\n",
    "    plt.legend(handles=legend_patches, loc=\"upper right\", frameon=True)\n",
    "\n",
    "    plt.xlabel(r\"$\\mu(t)$\")\n",
    "    plt.ylabel(r\"$\\varphi_1(t)$\")\n",
    "    plt.title(f\"Basin of Attraction for $\\epsilon$ = {eps}\")\n",
    "    plt.savefig(f'B&Wplot_eps={eps}.png', dpi=400)\n",
    "    plt.show()\n"
   ]
  }
 ],
 "metadata": {
  "kernelspec": {
   "display_name": "base",
   "language": "python",
   "name": "python3"
  },
  "language_info": {
   "codemirror_mode": {
    "name": "ipython",
    "version": 3
   },
   "file_extension": ".py",
   "mimetype": "text/x-python",
   "name": "python",
   "nbconvert_exporter": "python",
   "pygments_lexer": "ipython3",
   "version": "3.12.4"
  }
 },
 "nbformat": 4,
 "nbformat_minor": 2
}
