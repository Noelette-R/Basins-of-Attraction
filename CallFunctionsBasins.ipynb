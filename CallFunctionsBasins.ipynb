{
 "cells": [
  {
   "cell_type": "code",
   "execution_count": 8,
   "metadata": {},
   "outputs": [],
   "source": [
    "import import_ipynb\n",
    "from BasinsGeneralised import *"
   ]
  },
  {
   "cell_type": "code",
   "execution_count": null,
   "metadata": {},
   "outputs": [],
   "source": [
    "#PARAMETERS OF THE SYSTEM\n",
    "epsilon = 0.2 #Controls the slow timescale\n",
    "eta = 10  #fixed parameter of system\n",
    "alpha = np.pi / 2  #average phase difference of system\n",
    "kappa = 0 #coupling factor\n",
    "omega = [-3,-4,-5] #array of natural frequencies\n",
    "N = len(omega) #number of oscillators\n",
    "args = (omega, kappa, eta, epsilon, alpha,N) # if any args are added/removed update here"
   ]
  },
  {
   "cell_type": "code",
   "execution_count": null,
   "metadata": {},
   "outputs": [],
   "source": [
    "filename = \"BasinMatrix.xlsx\""
   ]
  },
  {
   "cell_type": "code",
   "execution_count": null,
   "metadata": {},
   "outputs": [],
   "source": [
    "#TO SET RANDOM INITIAL CONDITION COMMENT OUT IF NOT NEEDED.\n",
    "mu0 = np.random.rand()*10 #Change 10 to increase\\decrease the range in which the slow variable is in.\n",
    "phi0 = np.random.rand(N)*np.pi*2\n",
    "y0 = [mu0,*phi0]"
   ]
  },
  {
   "cell_type": "code",
   "execution_count": null,
   "metadata": {},
   "outputs": [],
   "source": [
    "#TIME PARAMETERS\n",
    "tf = 20000000 #end of eval\n",
    "tspan = (0,tf)\n",
    "te = 19999990 #starting evaluating from te\n",
    "tlength = 1000  #the number of points being evaluated\n",
    "t_eval = np.linspace(te,tf,tlength)"
   ]
  },
  {
   "cell_type": "code",
   "execution_count": null,
   "metadata": {},
   "outputs": [],
   "source": [
    "#PARAMETERS FOR THIS PROGRAMME\n",
    "threshold = 1e-1 #threshold used to determine attractor type\n",
    "grid_size = 3 #grid_size X grid_size set of initial conditions for Basin of Attraction (if too large, and not using GPU may take an extremely long time to compute)\n",
    "y0_range = np.linspace(-5,12,grid_size) #range for time dependent slow timescale parameter\n",
    "y1_range = np.linspace(0,2*np.pi,grid_size) #range for Osc. 1 (Used in basin computation)"
   ]
  },
  {
   "cell_type": "code",
   "execution_count": null,
   "metadata": {},
   "outputs": [],
   "source": [
    "EQM = equilibriumpoints(equations, N, omega, kappa, eta, epsilon, alpha,size)"
   ]
  },
  {
   "cell_type": "code",
   "execution_count": null,
   "metadata": {},
   "outputs": [],
   "source": [
    "#IF FP IS KNOWN IGNORE THIS PART\n",
    "M = len(EQM)\n",
    "for i in M:\n",
    "    print(EQM[i])\n",
    "    mu,phi = solve(EQM[i])\n",
    "    plot_phi_v_mu(mu,phi)"
   ]
  },
  {
   "cell_type": "code",
   "execution_count": null,
   "metadata": {},
   "outputs": [],
   "source": [
    "FP = EQM[1] #Set to FP."
   ]
  },
  {
   "cell_type": "code",
   "execution_count": null,
   "metadata": {},
   "outputs": [],
   "source": [
    "basin_map = compute_basin(grid_size,threshold,y0_range,y1_range,FP,epsilon)"
   ]
  },
  {
   "cell_type": "code",
   "execution_count": null,
   "metadata": {},
   "outputs": [],
   "source": [
    "plot_basin(basin_map,epsilon,y0_range,y1_range,FP,threshold)"
   ]
  },
  {
   "cell_type": "code",
   "execution_count": null,
   "metadata": {},
   "outputs": [],
   "source": [
    "Save_Basin(basin_map,filename)"
   ]
  }
 ],
 "metadata": {
  "kernelspec": {
   "display_name": "base",
   "language": "python",
   "name": "python3"
  },
  "language_info": {
   "codemirror_mode": {
    "name": "ipython",
    "version": 3
   },
   "file_extension": ".py",
   "mimetype": "text/x-python",
   "name": "python",
   "nbconvert_exporter": "python",
   "pygments_lexer": "ipython3",
   "version": "3.12.4"
  }
 },
 "nbformat": 4,
 "nbformat_minor": 2
}
